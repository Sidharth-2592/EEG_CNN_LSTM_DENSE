{
  "nbformat": 4,
  "nbformat_minor": 0,
  "metadata": {
    "colab": {
      "provenance": [],
      "authorship_tag": "ABX9TyOL+FVjOykpm5jh4jy1FsTd",
      "include_colab_link": true
    },
    "kernelspec": {
      "name": "python3",
      "display_name": "Python 3"
    },
    "language_info": {
      "name": "python"
    }
  },
  "cells": [
    {
      "cell_type": "markdown",
      "metadata": {
        "id": "view-in-github",
        "colab_type": "text"
      },
      "source": [
        "<a href=\"https://colab.research.google.com/github/Sidharth-2592/EEG_CNN_LSTM_DENSE/blob/main/Data_preprocessing_and_arrangement.ipynb\" target=\"_parent\"><img src=\"https://colab.research.google.com/assets/colab-badge.svg\" alt=\"Open In Colab\"/></a>"
      ]
    },
    {
      "cell_type": "code",
      "execution_count": 9,
      "metadata": {
        "colab": {
          "base_uri": "https://localhost:8080/"
        },
        "id": "QS0pMjlm5cxM",
        "outputId": "ba3009ed-0d60-4de2-f687-f595dbd3aa39"
      },
      "outputs": [
        {
          "output_type": "stream",
          "name": "stdout",
          "text": [
            "Drive already mounted at /content/drive; to attempt to forcibly remount, call drive.mount(\"/content/drive\", force_remount=True).\n"
          ]
        }
      ],
      "source": [
        "from google.colab import drive\n",
        "drive.mount('/content/drive')"
      ]
    },
    {
      "cell_type": "code",
      "source": [
        "try:\n",
        "    import wfdb\n",
        "except ImportError:\n",
        "    !pip install wfdb"
      ],
      "metadata": {
        "id": "yKzl73tg5fUC"
      },
      "execution_count": 10,
      "outputs": []
    },
    {
      "cell_type": "code",
      "source": [
        "try:\n",
        "    import biosppy\n",
        "except ImportError:\n",
        "    !pip install biosppy"
      ],
      "metadata": {
        "id": "br_CCVbe5hwb"
      },
      "execution_count": 11,
      "outputs": []
    },
    {
      "cell_type": "code",
      "source": [
        "import os\n",
        "import wfdb \n",
        "import numpy as np\n",
        "import matplotlib.pyplot as plt\n",
        "from scipy import signal\n",
        "from biosppy.signals import ecg\n",
        "from glob import glob\n",
        "import numpy as np\n",
        "import pandas as pd"
      ],
      "metadata": {
        "id": "MUo6mAYk5uSK"
      },
      "execution_count": 4,
      "outputs": []
    },
    {
      "cell_type": "code",
      "source": [
        "Data_path='/content/drive/MyDrive/ECG_classification/mit-bih-arrhythmia-database-1.0.0'"
      ],
      "metadata": {
        "id": "PDKX7iYo5yAt"
      },
      "execution_count": 25,
      "outputs": []
    },
    {
      "cell_type": "code",
      "source": [
        "Save_dir=\"/content/drive/MyDrive/ECG_classification/Files/\""
      ],
      "metadata": {
        "id": "mR9gaczvSRgi"
      },
      "execution_count": 23,
      "outputs": []
    },
    {
      "cell_type": "code",
      "source": [
        "ECG_files = os.listdir(Data_path)\n",
        "len(ECG_files)"
      ],
      "metadata": {
        "colab": {
          "base_uri": "https://localhost:8080/"
        },
        "id": "njdrCTPnT1yV",
        "outputId": "783d6436-faf8-4b5f-e2fa-9b1cf82eb5fc"
      },
      "execution_count": 28,
      "outputs": [
        {
          "output_type": "execute_result",
          "data": {
            "text/plain": [
              "201"
            ]
          },
          "metadata": {},
          "execution_count": 28
        }
      ]
    },
    {
      "cell_type": "code",
      "source": [
        "realbeats = ['N','V', 'L', 'R', '/', 'A', 'Q', 'F']"
      ],
      "metadata": {
        "id": "VvCPw4pv67vG"
      },
      "execution_count": 16,
      "outputs": []
    },
    {
      "cell_type": "code",
      "source": [
        "import os\n",
        "if not os.path.exists(Save_dir+\"data_ecg_new\"):\n",
        "    os.mkdir(Save_dir+\"data_ecg_new\")"
      ],
      "metadata": {
        "id": "GiPOtr0668ai"
      },
      "execution_count": 24,
      "outputs": []
    },
    {
      "cell_type": "code",
      "source": [
        "#Segmentation of each ECG beat and preparation of feature vector for 7 classes\n",
        "\n",
        "\n",
        "for file in ECG_files:\n",
        "  subject_ID=os.path.splitext(file)[0]\n",
        "  print(subject_ID)\n",
        "  #print('Loading file:', subject_ID)\n",
        "  subject_path=os.path.join(Data_path,subject_ID)\n",
        "  record = wfdb.rdrecord(subject_path)\n",
        "  #print(record)\n",
        "  annotation = wfdb.rdann(subject_path, 'atr')\n",
        "  data=record.p_signal\n",
        "  #print(data)\n",
        "  data=data.transpose()\n",
        "  # Get the ECG values from the file.\n",
        "\n",
        "\n",
        "  cat = np.array(annotation.symbol)\n",
        "  rate = np.zeros_like(cat, dtype='float')\n",
        "  #print(cat)\n",
        "  #print(rate)\n",
        "  for catid, catval in enumerate(cat):\n",
        "    if (catval == 'N'):\n",
        "      rate[catid] = 1 # Normal\n",
        "    elif (catval=='L'):\n",
        "      rate[catid] = 2.0 # Left bundle branch block beat\n",
        "    elif (catval=='R'):\n",
        "      rate[catid] = 3.0 # Right bundle branch block beat\n",
        "    elif (catval=='F'):\n",
        "      rate[catid] = 4.0 # Fusion of ventricular and normal beat\n",
        "    elif (catval=='A'):\n",
        "      rate[catid] = 5.0 # Atrial premature beat\n",
        "    elif (catval=='/'):\n",
        "      rate[catid] = 6.0 # Paced beat\n",
        "    elif (catval=='V'):\n",
        "      rate[catid] = 7.0 # \tPremature ventricular contraction\n",
        "  print(catval)\n",
        "\n",
        "  rates = np.zeros_like(data[0], dtype='float')\n",
        "  #print(rates)\n",
        "  rates[annotation.sample] = rate\n",
        "  indices = np.arange(data[0].size, dtype='int')\n",
        "  \n",
        "  \n",
        "  for channelid, channel in enumerate(data):\n",
        "      #print(channelid)\n",
        "      #print(channel)\n",
        "      out = ecg.ecg(signal=channel, sampling_rate=360, show=False)\n",
        "      rpeaks = np.zeros_like(channel, dtype='float')\n",
        "      rpeaks[out['rpeaks']] = 1.0\n",
        "      beatstoremove = np.array([0])\n",
        "\n",
        "      # Split into individual heartbeats. For each heartbeat\n",
        "      # record, append classification (normal/abnormal).\n",
        "\n",
        "      beats = np.split(channel, out['rpeaks'])\n",
        "      \n",
        "      for idx, idxval in enumerate(out['rpeaks']):\n",
        "        firstround = idx == 0\n",
        "        lastround = idx == len(beats) - 1\n",
        "        # Skip first and last beat.\n",
        "        if (firstround or lastround):\n",
        "          continue\n",
        "\n",
        "        # Get the classification value that is on\n",
        "        \n",
        "        fromidx = 0 if idxval < 10 else idxval - 10\n",
        "        toidx = idxval + 10\n",
        "        catval = rates[fromidx:toidx].max()\n",
        "              \n",
        "        # Skip beat if there is no classification.\n",
        "        if (catval == 0.0):\n",
        "          beatstoremove = np.append(beatstoremove, idx)\n",
        "          continue\n",
        "\n",
        "        \n",
        "        # Append some extra readings from next beat.\n",
        "\n",
        "        beats[idx] = np.append(beats[idx], beats[idx+1][:40])\n",
        "\n",
        "        # Normalize the readings to a 0-1 range for ML purposes.\n",
        "\n",
        "        beats[idx] = (beats[idx] - beats[idx].min()) / beats[idx].ptp()\n",
        "\n",
        "        # Resample from 360Hz to 125Hz\n",
        "\n",
        "        newsize = int((beats[idx].size * 125 / 360) + 0.5)\n",
        "        beats[idx] = signal.resample(beats[idx], newsize)\n",
        "        #print(beats[idx])\n",
        "        # Skipping records that are too long.\n",
        "        if (beats[idx].size > 187):\n",
        "          beatstoremove = np.append(beatstoremove, idx)\n",
        "          continue\n",
        "          \n",
        "          # Pad with zeroes.\n",
        "        zerocount = 187 - beats[idx].size\n",
        "        beats[idx] = np.pad(beats[idx], (0, zerocount), 'constant', constant_values=(0.0, 0.0))\n",
        "        \n",
        "        # Append the classification to the beat data.\n",
        "        beats[idx] = np.append(beats[idx], catval)\n",
        "\n",
        "        \n",
        "\n",
        "      beatstoremove = np.append(beatstoremove, len(beats)-1)\n",
        "      #Remove first and last beats and the ones without classification.\n",
        "      beats = np.delete(beats, beatstoremove)\n",
        "      \n",
        "      \n",
        "     \n",
        "\n",
        "      # Save to CSV file.\n",
        "      savedata = np.array(list(beats[:]), dtype=np.float)\n",
        "      outfn = Save_dir+'data_ecg_new/'+str(subject_ID)+'_'+str(channelid)+'.csv'\n",
        "      #print('    Generating ', outfn)\n",
        "      with open(outfn, \"wb\") as fin:\n",
        "            np.savetxt(fin, savedata, delimiter=\",\", fmt='%f')"
      ],
      "metadata": {
        "colab": {
          "base_uri": "https://localhost:8080/"
        },
        "id": "eX9mOxTc6_oD",
        "outputId": "1cb004b5-5c3d-47ee-d93a-1fcdccb8849d"
      },
      "execution_count": 29,
      "outputs": [
        {
          "output_type": "stream",
          "name": "stdout",
          "text": [
            "100\n",
            "N\n"
          ]
        },
        {
          "output_type": "stream",
          "name": "stderr",
          "text": [
            "/usr/local/lib/python3.8/dist-packages/numpy/lib/function_base.py:4454: VisibleDeprecationWarning: Creating an ndarray from ragged nested sequences (which is a list-or-tuple of lists-or-tuples-or ndarrays with different lengths or shapes) is deprecated. If you meant to do this, you must specify 'dtype=object' when creating the ndarray.\n",
            "  arr = asarray(arr)\n",
            "<ipython-input-29-4fbbacdd66ca>:112: DeprecationWarning: `np.float` is a deprecated alias for the builtin `float`. To silence this warning, use `float` by itself. Doing this will not modify any behavior and is safe. If you specifically wanted the numpy scalar type, use `np.float64` here.\n",
            "Deprecated in NumPy 1.20; for more details and guidance: https://numpy.org/devdocs/release/1.20.0-notes.html#deprecations\n",
            "  savedata = np.array(list(beats[:]), dtype=np.float)\n"
          ]
        },
        {
          "output_type": "stream",
          "name": "stdout",
          "text": [
            "100\n",
            "N\n",
            "100\n",
            "N\n",
            "101\n",
            "N\n",
            "101\n",
            "N\n",
            "101\n",
            "N\n",
            "102\n",
            "/\n",
            "102\n",
            "/\n",
            "103\n",
            "N\n",
            "103\n",
            "N\n",
            "103\n",
            "N\n",
            "104\n",
            "/\n",
            "104\n",
            "/\n",
            "104\n",
            "/\n",
            "105\n",
            "N\n",
            "105\n",
            "N\n",
            "105\n",
            "N\n",
            "106\n",
            "N\n",
            "106\n",
            "N\n",
            "106\n",
            "N\n",
            "107\n",
            "/\n",
            "107\n",
            "/\n",
            "107\n",
            "/\n",
            "108\n",
            "N\n",
            "108\n",
            "N\n",
            "109\n",
            "L\n",
            "109\n",
            "L\n",
            "111\n",
            "L\n",
            "111\n",
            "L\n",
            "112\n",
            "N\n",
            "112\n",
            "N\n",
            "113\n",
            "N\n",
            "113\n",
            "N\n",
            "114\n",
            "N\n",
            "114\n",
            "N\n",
            "115\n",
            "N\n",
            "115\n",
            "N\n",
            "116\n",
            "N\n",
            "116\n",
            "N\n",
            "117\n",
            "N\n",
            "117\n",
            "N\n",
            "118\n",
            "R\n",
            "118\n",
            "R\n",
            "118\n",
            "R\n",
            "119\n",
            "N\n",
            "119\n",
            "N\n",
            "119\n",
            "N\n",
            "121\n",
            "N\n",
            "121\n",
            "N\n",
            "122\n",
            "N\n",
            "122\n",
            "N\n",
            "123\n",
            "N\n",
            "123\n",
            "N\n",
            "124\n",
            "R\n",
            "124\n",
            "R\n",
            "200\n",
            "N\n",
            "200\n",
            "N\n",
            "200\n",
            "N\n",
            "201\n",
            "N\n",
            "201\n",
            "N\n",
            "201\n",
            "N\n",
            "202\n",
            "N\n",
            "202\n",
            "N\n",
            "202\n",
            "N\n",
            "203\n",
            "N\n",
            "203\n",
            "N\n",
            "203\n",
            "N\n",
            "205\n",
            "N\n",
            "205\n",
            "N\n",
            "205\n",
            "N\n",
            "207\n",
            "A\n",
            "207\n",
            "A\n",
            "207\n",
            "A\n",
            "208\n",
            "N\n",
            "208\n",
            "N\n",
            "208\n",
            "N\n",
            "209\n",
            "N\n",
            "209\n",
            "N\n",
            "209\n",
            "N\n",
            "210\n",
            "N\n",
            "210\n",
            "N\n",
            "210\n",
            "N\n",
            "212\n",
            "N\n",
            "212\n",
            "N\n",
            "212\n",
            "N\n",
            "213\n",
            "N\n",
            "213\n",
            "N\n",
            "213\n",
            "N\n",
            "214\n",
            "L\n",
            "214\n",
            "L\n",
            "214\n",
            "L\n",
            "215\n",
            "N\n",
            "215\n",
            "N\n",
            "215\n",
            "N\n",
            "217\n",
            "/\n",
            "217\n",
            "/\n",
            "217\n",
            "/\n",
            "219\n",
            "N\n",
            "219\n",
            "N\n",
            "219\n",
            "N\n",
            "220\n",
            "N\n",
            "220\n",
            "N\n",
            "221\n",
            "N\n",
            "221\n",
            "N\n",
            "222\n",
            "N\n",
            "222\n",
            "N\n",
            "223\n",
            "N\n",
            "223\n",
            "N\n",
            "228\n",
            "N\n",
            "228\n",
            "N\n",
            "230\n",
            "N\n",
            "230\n",
            "N\n",
            "231\n",
            "R\n",
            "231\n",
            "R\n",
            "232\n",
            "A\n",
            "232\n",
            "A\n",
            "233\n",
            "N\n",
            "233\n",
            "N\n",
            "234\n",
            "N\n",
            "234\n",
            "N\n",
            "108\n",
            "N\n",
            "109\n",
            "L\n",
            "111\n",
            "L\n",
            "112\n",
            "N\n",
            "113\n",
            "N\n",
            "114\n",
            "N\n",
            "115\n",
            "N\n",
            "116\n",
            "N\n",
            "117\n",
            "N\n",
            "121\n",
            "N\n",
            "122\n",
            "N\n",
            "123\n",
            "N\n",
            "124\n",
            "R\n",
            "220\n",
            "N\n",
            "221\n",
            "N\n",
            "222\n",
            "N\n",
            "223\n",
            "N\n",
            "228\n",
            "N\n",
            "230\n",
            "N\n",
            "231\n",
            "R\n",
            "232\n",
            "A\n",
            "233\n",
            "N\n",
            "234\n",
            "N\n",
            "117\n",
            "N\n",
            "203\n",
            "N\n",
            "114\n",
            "N\n",
            "100\n",
            "N\n",
            "104\n",
            "/\n",
            "106\n",
            "N\n",
            "103\n",
            "N\n",
            "121\n",
            "N\n",
            "101\n",
            "N\n",
            "116\n",
            "N\n",
            "107\n",
            "/\n",
            "102\n",
            "/\n",
            "115\n",
            "N\n",
            "111\n",
            "L\n",
            "119\n",
            "N\n",
            "113\n",
            "N\n",
            "112\n",
            "N\n",
            "118\n",
            "R\n",
            "108\n",
            "N\n",
            "105\n",
            "N\n",
            "117\n",
            "N\n",
            "109\n",
            "L\n",
            "230\n",
            "N\n",
            "232\n",
            "A\n",
            "221\n",
            "N\n",
            "231\n",
            "R\n",
            "202\n",
            "N\n",
            "219\n",
            "N\n",
            "215\n",
            "N\n",
            "222\n",
            "N\n",
            "201\n",
            "N\n",
            "122\n",
            "N\n",
            "200\n",
            "N\n",
            "212\n",
            "N\n",
            "220\n",
            "N\n",
            "205\n",
            "N\n",
            "123\n",
            "N\n",
            "209\n",
            "N\n",
            "223\n",
            "N\n",
            "217\n",
            "/\n",
            "213\n",
            "N\n",
            "124\n",
            "R\n",
            "207\n",
            "A\n",
            "208\n",
            "N\n",
            "233\n",
            "N\n",
            "203\n",
            "N\n",
            "228\n",
            "N\n",
            "234\n",
            "N\n",
            "210\n",
            "N\n",
            "214\n",
            "L\n",
            "209\n",
            "N\n",
            "119\n",
            "N\n",
            "214\n",
            "L\n",
            "222\n",
            "N\n",
            "215\n",
            "N\n",
            "108\n",
            "N\n",
            "203\n",
            "N\n",
            "102\n",
            "/\n"
          ]
        }
      ]
    },
    {
      "cell_type": "code",
      "source": [
        "# calling all files and combined feature matrix\n",
        "\n",
        "alldata = np.empty(shape=[0, 188])\n",
        "print(alldata.shape)\n",
        "paths = glob(Save_dir+'data_ecg_new/*'+'.csv')\n",
        "for path in paths:\n",
        "    try:\n",
        "     csvrows = np.loadtxt(path, delimiter=',')\n",
        "     alldata = np.append(alldata, csvrows, axis=0)\n",
        "    except:\n",
        "      continue"
      ],
      "metadata": {
        "colab": {
          "base_uri": "https://localhost:8080/"
        },
        "id": "wEMq_CRx8DNX",
        "outputId": "5e6211f9-f369-4fe7-f9a8-02411dce1a58"
      },
      "execution_count": 30,
      "outputs": [
        {
          "output_type": "stream",
          "name": "stdout",
          "text": [
            "(0, 188)\n"
          ]
        }
      ]
    },
    {
      "cell_type": "code",
      "source": [
        "data_df=pd.DataFrame(alldata)\n",
        "classes_num=data_df[187].value_counts()\n",
        "print(classes_num)"
      ],
      "metadata": {
        "colab": {
          "base_uri": "https://localhost:8080/"
        },
        "id": "B5yvQ3Sp8Kiw",
        "outputId": "926f87a6-2480-48d8-caa8-7aa3ea084d80"
      },
      "execution_count": 31,
      "outputs": [
        {
          "output_type": "stream",
          "name": "stdout",
          "text": [
            "1.0    112447\n",
            "6.0      9722\n",
            "3.0      9585\n",
            "2.0      6566\n",
            "7.0      4783\n",
            "5.0      3131\n",
            "4.0       820\n",
            "Name: 187, dtype: int64\n"
          ]
        }
      ]
    },
    {
      "cell_type": "code",
      "source": [
        "class_data = data_df.groupby(data_df.iloc[:,-1])"
      ],
      "metadata": {
        "id": "j6ev4BsIVJbN"
      },
      "execution_count": 32,
      "outputs": []
    },
    {
      "cell_type": "code",
      "source": [
        "class_1_data = class_data.get_group(1)\n",
        "class_2_data = class_data.get_group(2)\n",
        "class_3_data = class_data.get_group(3)\n",
        "class_4_data = class_data.get_group(4)\n",
        "class_5_data = class_data.get_group(5)\n",
        "class_6_data = class_data.get_group(6)\n",
        "class_7_data = class_data.get_group(7)\n",
        "\n",
        "#plot all classes data\n",
        "\n",
        "plt.plot(class_1_data.iloc[500,:-1]), plt.title('Normal ECG'), plt.show()\n",
        "plt.plot(class_2_data.iloc[500,:-1]), plt.title('Left bundle branch block beat'), plt.show()\n",
        "plt.plot(class_3_data.iloc[500,:-1]), plt.title('Right bundle branch block beat'), plt.show()\n",
        "plt.plot(class_4_data.iloc[500,:-1]),  plt.title('Fusion of ventricular and normal beat'), plt.show()\n",
        "plt.plot(class_5_data.iloc[500,:-1]), plt.title('Atrial premature beat'), plt.show()\n",
        "plt.plot(class_6_data.iloc[500,:-1]), plt.title('Paced beat'), plt.show()\n",
        "plt.plot(class_7_data.iloc[500,:-1]), plt.title('Premature ventricular contraction'), plt.show()"
      ],
      "metadata": {
        "colab": {
          "base_uri": "https://localhost:8080/",
          "height": 1000
        },
        "id": "fdDGAfUhVNWN",
        "outputId": "d6823986-ed92-4d5f-f67b-143d45e152b3"
      },
      "execution_count": 35,
      "outputs": [
        {
          "output_type": "display_data",
          "data": {
            "text/plain": [
              "<Figure size 432x288 with 1 Axes>"
            ],
            "image/png": "[encoded data removed]"
          },
          "metadata": {
            "needs_background": "light"
          }
        },
        {
          "output_type": "display_data",
          "data": {
            "text/plain": [
              "<Figure size 432x288 with 1 Axes>"
            ],
            "image/png": "[encoded data removed]"
          },
          "metadata": {
            "needs_background": "light"
          }
        },
        {
          "output_type": "display_data",
          "data": {
            "text/plain": [
              "<Figure size 432x288 with 1 Axes>"
            ],
            "image/png": "[encoded data removed]"
          },
          "metadata": {
            "needs_background": "light"
          }
        },
        {
          "output_type": "display_data",
          "data": {
            "text/plain": [
              "<Figure size 432x288 with 1 Axes>"
            ],
            "image/png": "[encoded data removed]"
          },
          "metadata": {
            "needs_background": "light"
          }
        },
        {
          "output_type": "display_data",
          "data": {
            "text/plain": [
              "<Figure size 432x288 with 1 Axes>"
            ],
            "image/png": "[encoded data removed]"
          },
          "metadata": {
            "needs_background": "light"
          }
        },
        {
          "output_type": "display_data",
          "data": {
            "text/plain": [
              "<Figure size 432x288 with 1 Axes>"
            ],
            "image/png": "[encoded data removed]"
          },
          "metadata": {
            "needs_background": "light"
          }
        },
        {
          "output_type": "display_data",
          "data": {
            "text/plain": [
              "<Figure size 432x288 with 1 Axes>"
            ],
            "image/png": "[encoded data removed]"
          },
          "metadata": {
            "needs_background": "light"
          }
        },
        {
          "output_type": "execute_result",
          "data": {
            "text/plain": [
              "([<matplotlib.lines.Line2D at 0x7fd216baca30>],\n",
              " Text(0.5, 1.0, 'Premature ventricular contraction'),\n",
              " None)"
            ]
          },
          "metadata": {},
          "execution_count": 35
        }
      ]
    }
  ]
}